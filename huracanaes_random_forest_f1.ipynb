{
  "nbformat": 4,
  "nbformat_minor": 0,
  "metadata": {
    "kernelspec": {
      "display_name": "Python 3",
      "language": "python",
      "name": "python3"
    },
    "language_info": {
      "codemirror_mode": {
        "name": "ipython",
        "version": 3
      },
      "file_extension": ".py",
      "mimetype": "text/x-python",
      "name": "python",
      "nbconvert_exporter": "python",
      "pygments_lexer": "ipython3",
      "version": "3.7.4"
    },
    "colab": {
      "name": "huracanaes-random-forest-f1.ipynb",
      "provenance": [],
      "include_colab_link": true
    }
  },
  "cells": [
    {
      "cell_type": "markdown",
      "metadata": {
        "id": "view-in-github",
        "colab_type": "text"
      },
      "source": [
        "<a href=\"https://colab.research.google.com/github/jmlora/ai-saturdays-ml-project/blob/master/huracanaes_random_forest_f1.ipynb\" target=\"_parent\"><img src=\"https://colab.research.google.com/assets/colab-badge.svg\" alt=\"Open In Colab\"/></a>"
      ]
    },
    {
      "cell_type": "code",
      "metadata": {
        "id": "Y-1RuYfKhSKo",
        "colab_type": "code",
        "colab": {}
      },
      "source": [
        "import pandas as pd\n",
        "import matplotlib\n",
        "import matplotlib.pyplot as plt\n",
        "import seaborn as sns\n",
        "import numpy as np\n",
        "import statsmodels.api as sm\n",
        "import scipy.stats as stats\n",
        "from sklearn.metrics import confusion_matrix, classification_report, plot_confusion_matrix, plot_roc_curve\n",
        "from sklearn.preprocessing import OneHotEncoder\n",
        "from tqdm import tqdm\n",
        "\n",
        "from sklearn.model_selection import train_test_split, cross_val_score, GridSearchCV\n",
        "from sklearn.ensemble import RandomForestClassifier"
      ],
      "execution_count": null,
      "outputs": []
    },
    {
      "cell_type": "code",
      "metadata": {
        "id": "ljP_nQw5hSK6",
        "colab_type": "code",
        "colab": {
          "base_uri": "https://localhost:8080/",
          "height": 261
        },
        "outputId": "e4e37933-f4c0-4a3c-bbaf-0ee58f6b6bd5"
      },
      "source": [
        "data = pd.read_csv('/hurdat2-formattted.csv', sep = \";\")\n",
        "data.head()"
      ],
      "execution_count": null,
      "outputs": [
        {
          "output_type": "execute_result",
          "data": {
            "text/html": [
              "<div>\n",
              "<style scoped>\n",
              "    .dataframe tbody tr th:only-of-type {\n",
              "        vertical-align: middle;\n",
              "    }\n",
              "\n",
              "    .dataframe tbody tr th {\n",
              "        vertical-align: top;\n",
              "    }\n",
              "\n",
              "    .dataframe thead th {\n",
              "        text-align: right;\n",
              "    }\n",
              "</style>\n",
              "<table border=\"1\" class=\"dataframe\">\n",
              "  <thead>\n",
              "    <tr style=\"text-align: right;\">\n",
              "      <th></th>\n",
              "      <th>Identifier</th>\n",
              "      <th>Name</th>\n",
              "      <th>Date</th>\n",
              "      <th>Time</th>\n",
              "      <th>Land</th>\n",
              "      <th>System Status</th>\n",
              "      <th>Longitude</th>\n",
              "      <th>Latitude</th>\n",
              "      <th>Max wind</th>\n",
              "      <th>Min pressure</th>\n",
              "      <th>34 kt wind northeastern</th>\n",
              "      <th>34 kt wind radii southeastern</th>\n",
              "      <th>34 kt wind radii southwestern</th>\n",
              "      <th>34 kt wind radii southwestern.1</th>\n",
              "      <th>50 kt wind northeastern</th>\n",
              "      <th>50 kt wind radii southeastern</th>\n",
              "      <th>50 kt wind radii southwestern</th>\n",
              "      <th>50 kt wind radii southwestern.1</th>\n",
              "      <th>64 kt wind northeastern</th>\n",
              "      <th>64 kt wind radii southeastern</th>\n",
              "      <th>64 kt wind radii southwestern</th>\n",
              "      <th>64 kt wind radii southwestern.1</th>\n",
              "    </tr>\n",
              "  </thead>\n",
              "  <tbody>\n",
              "    <tr>\n",
              "      <th>0</th>\n",
              "      <td>AL011851</td>\n",
              "      <td>UNNAMED</td>\n",
              "      <td>18510625</td>\n",
              "      <td>0</td>\n",
              "      <td>0</td>\n",
              "      <td>HU</td>\n",
              "      <td>-94.8</td>\n",
              "      <td>28.0</td>\n",
              "      <td>80</td>\n",
              "      <td>-999</td>\n",
              "      <td>-999</td>\n",
              "      <td>-999</td>\n",
              "      <td>-999</td>\n",
              "      <td>-999</td>\n",
              "      <td>-999</td>\n",
              "      <td>-999</td>\n",
              "      <td>-999</td>\n",
              "      <td>-999</td>\n",
              "      <td>-999</td>\n",
              "      <td>-999</td>\n",
              "      <td>-999</td>\n",
              "      <td>-999</td>\n",
              "    </tr>\n",
              "    <tr>\n",
              "      <th>1</th>\n",
              "      <td>AL011851</td>\n",
              "      <td>UNNAMED</td>\n",
              "      <td>18510625</td>\n",
              "      <td>600</td>\n",
              "      <td>0</td>\n",
              "      <td>HU</td>\n",
              "      <td>-95.4</td>\n",
              "      <td>28.0</td>\n",
              "      <td>80</td>\n",
              "      <td>-999</td>\n",
              "      <td>-999</td>\n",
              "      <td>-999</td>\n",
              "      <td>-999</td>\n",
              "      <td>-999</td>\n",
              "      <td>-999</td>\n",
              "      <td>-999</td>\n",
              "      <td>-999</td>\n",
              "      <td>-999</td>\n",
              "      <td>-999</td>\n",
              "      <td>-999</td>\n",
              "      <td>-999</td>\n",
              "      <td>-999</td>\n",
              "    </tr>\n",
              "    <tr>\n",
              "      <th>2</th>\n",
              "      <td>AL011851</td>\n",
              "      <td>UNNAMED</td>\n",
              "      <td>18510625</td>\n",
              "      <td>1200</td>\n",
              "      <td>0</td>\n",
              "      <td>HU</td>\n",
              "      <td>-96.0</td>\n",
              "      <td>28.0</td>\n",
              "      <td>80</td>\n",
              "      <td>-999</td>\n",
              "      <td>-999</td>\n",
              "      <td>-999</td>\n",
              "      <td>-999</td>\n",
              "      <td>-999</td>\n",
              "      <td>-999</td>\n",
              "      <td>-999</td>\n",
              "      <td>-999</td>\n",
              "      <td>-999</td>\n",
              "      <td>-999</td>\n",
              "      <td>-999</td>\n",
              "      <td>-999</td>\n",
              "      <td>-999</td>\n",
              "    </tr>\n",
              "    <tr>\n",
              "      <th>3</th>\n",
              "      <td>AL011851</td>\n",
              "      <td>UNNAMED</td>\n",
              "      <td>18510625</td>\n",
              "      <td>1800</td>\n",
              "      <td>0</td>\n",
              "      <td>HU</td>\n",
              "      <td>-96.5</td>\n",
              "      <td>28.1</td>\n",
              "      <td>80</td>\n",
              "      <td>-999</td>\n",
              "      <td>-999</td>\n",
              "      <td>-999</td>\n",
              "      <td>-999</td>\n",
              "      <td>-999</td>\n",
              "      <td>-999</td>\n",
              "      <td>-999</td>\n",
              "      <td>-999</td>\n",
              "      <td>-999</td>\n",
              "      <td>-999</td>\n",
              "      <td>-999</td>\n",
              "      <td>-999</td>\n",
              "      <td>-999</td>\n",
              "    </tr>\n",
              "    <tr>\n",
              "      <th>4</th>\n",
              "      <td>AL011851</td>\n",
              "      <td>UNNAMED</td>\n",
              "      <td>18510625</td>\n",
              "      <td>2100</td>\n",
              "      <td>1</td>\n",
              "      <td>HU</td>\n",
              "      <td>-96.8</td>\n",
              "      <td>28.2</td>\n",
              "      <td>80</td>\n",
              "      <td>-999</td>\n",
              "      <td>-999</td>\n",
              "      <td>-999</td>\n",
              "      <td>-999</td>\n",
              "      <td>-999</td>\n",
              "      <td>-999</td>\n",
              "      <td>-999</td>\n",
              "      <td>-999</td>\n",
              "      <td>-999</td>\n",
              "      <td>-999</td>\n",
              "      <td>-999</td>\n",
              "      <td>-999</td>\n",
              "      <td>-999</td>\n",
              "    </tr>\n",
              "  </tbody>\n",
              "</table>\n",
              "</div>"
            ],
            "text/plain": [
              "  Identifier  ... 64 kt wind radii southwestern.1\n",
              "0   AL011851  ...                            -999\n",
              "1   AL011851  ...                            -999\n",
              "2   AL011851  ...                            -999\n",
              "3   AL011851  ...                            -999\n",
              "4   AL011851  ...                            -999\n",
              "\n",
              "[5 rows x 22 columns]"
            ]
          },
          "metadata": {
            "tags": []
          },
          "execution_count": 7
        }
      ]
    },
    {
      "cell_type": "code",
      "metadata": {
        "id": "jTYrbN9phSLM",
        "colab_type": "code",
        "colab": {
          "base_uri": "https://localhost:8080/",
          "height": 69
        },
        "outputId": "32f55af2-cd6d-4315-f7ab-957f78d74b7a"
      },
      "source": [
        "# Data cleaning\n",
        "columns_to_drop = ['Name', 'Date', 'Time']\n",
        "\n",
        "for column in columns_to_drop:\n",
        "    if column in data.columns:\n",
        "        data.drop(column, axis = 1, inplace = True)\n",
        "        print(\"Colum '{}' dropped\".format(column))\n",
        "    else:\n",
        "        print(\"Column '{}' already has been dropped\".format(column))"
      ],
      "execution_count": null,
      "outputs": [
        {
          "output_type": "stream",
          "text": [
            "Colum 'Name' dropped\n",
            "Colum 'Date' dropped\n",
            "Colum 'Time' dropped\n"
          ],
          "name": "stdout"
        }
      ]
    },
    {
      "cell_type": "code",
      "metadata": {
        "id": "a_tDf3bghSLW",
        "colab_type": "code",
        "colab": {}
      },
      "source": [
        "# One Hot Encoding: System Status column\n",
        "data = pd.get_dummies(data, columns = ['System Status'])"
      ],
      "execution_count": null,
      "outputs": []
    },
    {
      "cell_type": "code",
      "metadata": {
        "id": "ZcNqCfC5hSLq",
        "colab_type": "code",
        "colab": {
          "base_uri": "https://localhost:8080/",
          "height": 479
        },
        "outputId": "9c14af83-8564-48b6-c2a0-baea357dce3f"
      },
      "source": [
        "data"
      ],
      "execution_count": null,
      "outputs": [
        {
          "output_type": "execute_result",
          "data": {
            "text/html": [
              "<div>\n",
              "<style scoped>\n",
              "    .dataframe tbody tr th:only-of-type {\n",
              "        vertical-align: middle;\n",
              "    }\n",
              "\n",
              "    .dataframe tbody tr th {\n",
              "        vertical-align: top;\n",
              "    }\n",
              "\n",
              "    .dataframe thead th {\n",
              "        text-align: right;\n",
              "    }\n",
              "</style>\n",
              "<table border=\"1\" class=\"dataframe\">\n",
              "  <thead>\n",
              "    <tr style=\"text-align: right;\">\n",
              "      <th></th>\n",
              "      <th>Identifier</th>\n",
              "      <th>Land</th>\n",
              "      <th>Longitude</th>\n",
              "      <th>Latitude</th>\n",
              "      <th>Max wind</th>\n",
              "      <th>Min pressure</th>\n",
              "      <th>34 kt wind northeastern</th>\n",
              "      <th>34 kt wind radii southeastern</th>\n",
              "      <th>34 kt wind radii southwestern</th>\n",
              "      <th>34 kt wind radii southwestern.1</th>\n",
              "      <th>50 kt wind northeastern</th>\n",
              "      <th>50 kt wind radii southeastern</th>\n",
              "      <th>50 kt wind radii southwestern</th>\n",
              "      <th>50 kt wind radii southwestern.1</th>\n",
              "      <th>64 kt wind northeastern</th>\n",
              "      <th>64 kt wind radii southeastern</th>\n",
              "      <th>64 kt wind radii southwestern</th>\n",
              "      <th>64 kt wind radii southwestern.1</th>\n",
              "      <th>System Status_DB</th>\n",
              "      <th>System Status_ET</th>\n",
              "      <th>System Status_EX</th>\n",
              "      <th>System Status_HU</th>\n",
              "      <th>System Status_LO</th>\n",
              "      <th>System Status_SD</th>\n",
              "      <th>System Status_SS</th>\n",
              "      <th>System Status_TD</th>\n",
              "      <th>System Status_TS</th>\n",
              "      <th>System Status_WV</th>\n",
              "    </tr>\n",
              "  </thead>\n",
              "  <tbody>\n",
              "    <tr>\n",
              "      <th>0</th>\n",
              "      <td>AL011851</td>\n",
              "      <td>0</td>\n",
              "      <td>-94.8</td>\n",
              "      <td>28.0</td>\n",
              "      <td>80</td>\n",
              "      <td>-999</td>\n",
              "      <td>-999</td>\n",
              "      <td>-999</td>\n",
              "      <td>-999</td>\n",
              "      <td>-999</td>\n",
              "      <td>-999</td>\n",
              "      <td>-999</td>\n",
              "      <td>-999</td>\n",
              "      <td>-999</td>\n",
              "      <td>-999</td>\n",
              "      <td>-999</td>\n",
              "      <td>-999</td>\n",
              "      <td>-999</td>\n",
              "      <td>0</td>\n",
              "      <td>0</td>\n",
              "      <td>0</td>\n",
              "      <td>1</td>\n",
              "      <td>0</td>\n",
              "      <td>0</td>\n",
              "      <td>0</td>\n",
              "      <td>0</td>\n",
              "      <td>0</td>\n",
              "      <td>0</td>\n",
              "    </tr>\n",
              "    <tr>\n",
              "      <th>1</th>\n",
              "      <td>AL011851</td>\n",
              "      <td>0</td>\n",
              "      <td>-95.4</td>\n",
              "      <td>28.0</td>\n",
              "      <td>80</td>\n",
              "      <td>-999</td>\n",
              "      <td>-999</td>\n",
              "      <td>-999</td>\n",
              "      <td>-999</td>\n",
              "      <td>-999</td>\n",
              "      <td>-999</td>\n",
              "      <td>-999</td>\n",
              "      <td>-999</td>\n",
              "      <td>-999</td>\n",
              "      <td>-999</td>\n",
              "      <td>-999</td>\n",
              "      <td>-999</td>\n",
              "      <td>-999</td>\n",
              "      <td>0</td>\n",
              "      <td>0</td>\n",
              "      <td>0</td>\n",
              "      <td>1</td>\n",
              "      <td>0</td>\n",
              "      <td>0</td>\n",
              "      <td>0</td>\n",
              "      <td>0</td>\n",
              "      <td>0</td>\n",
              "      <td>0</td>\n",
              "    </tr>\n",
              "    <tr>\n",
              "      <th>2</th>\n",
              "      <td>AL011851</td>\n",
              "      <td>0</td>\n",
              "      <td>-96.0</td>\n",
              "      <td>28.0</td>\n",
              "      <td>80</td>\n",
              "      <td>-999</td>\n",
              "      <td>-999</td>\n",
              "      <td>-999</td>\n",
              "      <td>-999</td>\n",
              "      <td>-999</td>\n",
              "      <td>-999</td>\n",
              "      <td>-999</td>\n",
              "      <td>-999</td>\n",
              "      <td>-999</td>\n",
              "      <td>-999</td>\n",
              "      <td>-999</td>\n",
              "      <td>-999</td>\n",
              "      <td>-999</td>\n",
              "      <td>0</td>\n",
              "      <td>0</td>\n",
              "      <td>0</td>\n",
              "      <td>1</td>\n",
              "      <td>0</td>\n",
              "      <td>0</td>\n",
              "      <td>0</td>\n",
              "      <td>0</td>\n",
              "      <td>0</td>\n",
              "      <td>0</td>\n",
              "    </tr>\n",
              "    <tr>\n",
              "      <th>3</th>\n",
              "      <td>AL011851</td>\n",
              "      <td>0</td>\n",
              "      <td>-96.5</td>\n",
              "      <td>28.1</td>\n",
              "      <td>80</td>\n",
              "      <td>-999</td>\n",
              "      <td>-999</td>\n",
              "      <td>-999</td>\n",
              "      <td>-999</td>\n",
              "      <td>-999</td>\n",
              "      <td>-999</td>\n",
              "      <td>-999</td>\n",
              "      <td>-999</td>\n",
              "      <td>-999</td>\n",
              "      <td>-999</td>\n",
              "      <td>-999</td>\n",
              "      <td>-999</td>\n",
              "      <td>-999</td>\n",
              "      <td>0</td>\n",
              "      <td>0</td>\n",
              "      <td>0</td>\n",
              "      <td>1</td>\n",
              "      <td>0</td>\n",
              "      <td>0</td>\n",
              "      <td>0</td>\n",
              "      <td>0</td>\n",
              "      <td>0</td>\n",
              "      <td>0</td>\n",
              "    </tr>\n",
              "    <tr>\n",
              "      <th>4</th>\n",
              "      <td>AL011851</td>\n",
              "      <td>1</td>\n",
              "      <td>-96.8</td>\n",
              "      <td>28.2</td>\n",
              "      <td>80</td>\n",
              "      <td>-999</td>\n",
              "      <td>-999</td>\n",
              "      <td>-999</td>\n",
              "      <td>-999</td>\n",
              "      <td>-999</td>\n",
              "      <td>-999</td>\n",
              "      <td>-999</td>\n",
              "      <td>-999</td>\n",
              "      <td>-999</td>\n",
              "      <td>-999</td>\n",
              "      <td>-999</td>\n",
              "      <td>-999</td>\n",
              "      <td>-999</td>\n",
              "      <td>0</td>\n",
              "      <td>0</td>\n",
              "      <td>0</td>\n",
              "      <td>1</td>\n",
              "      <td>0</td>\n",
              "      <td>0</td>\n",
              "      <td>0</td>\n",
              "      <td>0</td>\n",
              "      <td>0</td>\n",
              "      <td>0</td>\n",
              "    </tr>\n",
              "    <tr>\n",
              "      <th>...</th>\n",
              "      <td>...</td>\n",
              "      <td>...</td>\n",
              "      <td>...</td>\n",
              "      <td>...</td>\n",
              "      <td>...</td>\n",
              "      <td>...</td>\n",
              "      <td>...</td>\n",
              "      <td>...</td>\n",
              "      <td>...</td>\n",
              "      <td>...</td>\n",
              "      <td>...</td>\n",
              "      <td>...</td>\n",
              "      <td>...</td>\n",
              "      <td>...</td>\n",
              "      <td>...</td>\n",
              "      <td>...</td>\n",
              "      <td>...</td>\n",
              "      <td>...</td>\n",
              "      <td>...</td>\n",
              "      <td>...</td>\n",
              "      <td>...</td>\n",
              "      <td>...</td>\n",
              "      <td>...</td>\n",
              "      <td>...</td>\n",
              "      <td>...</td>\n",
              "      <td>...</td>\n",
              "      <td>...</td>\n",
              "      <td>...</td>\n",
              "    </tr>\n",
              "    <tr>\n",
              "      <th>51341</th>\n",
              "      <td>AL162018</td>\n",
              "      <td>1</td>\n",
              "      <td>-19.6</td>\n",
              "      <td>57.9</td>\n",
              "      <td>55</td>\n",
              "      <td>960</td>\n",
              "      <td>780</td>\n",
              "      <td>600</td>\n",
              "      <td>660</td>\n",
              "      <td>480</td>\n",
              "      <td>0</td>\n",
              "      <td>240</td>\n",
              "      <td>0</td>\n",
              "      <td>0</td>\n",
              "      <td>0</td>\n",
              "      <td>0</td>\n",
              "      <td>0</td>\n",
              "      <td>0</td>\n",
              "      <td>0</td>\n",
              "      <td>0</td>\n",
              "      <td>1</td>\n",
              "      <td>0</td>\n",
              "      <td>0</td>\n",
              "      <td>0</td>\n",
              "      <td>0</td>\n",
              "      <td>0</td>\n",
              "      <td>0</td>\n",
              "      <td>0</td>\n",
              "    </tr>\n",
              "    <tr>\n",
              "      <th>51342</th>\n",
              "      <td>AL162018</td>\n",
              "      <td>1</td>\n",
              "      <td>-17.1</td>\n",
              "      <td>58.9</td>\n",
              "      <td>50</td>\n",
              "      <td>964</td>\n",
              "      <td>480</td>\n",
              "      <td>600</td>\n",
              "      <td>660</td>\n",
              "      <td>420</td>\n",
              "      <td>0</td>\n",
              "      <td>240</td>\n",
              "      <td>0</td>\n",
              "      <td>0</td>\n",
              "      <td>0</td>\n",
              "      <td>0</td>\n",
              "      <td>0</td>\n",
              "      <td>0</td>\n",
              "      <td>0</td>\n",
              "      <td>0</td>\n",
              "      <td>1</td>\n",
              "      <td>0</td>\n",
              "      <td>0</td>\n",
              "      <td>0</td>\n",
              "      <td>0</td>\n",
              "      <td>0</td>\n",
              "      <td>0</td>\n",
              "      <td>0</td>\n",
              "    </tr>\n",
              "    <tr>\n",
              "      <th>51343</th>\n",
              "      <td>AL162018</td>\n",
              "      <td>1</td>\n",
              "      <td>-14.5</td>\n",
              "      <td>59.8</td>\n",
              "      <td>45</td>\n",
              "      <td>968</td>\n",
              "      <td>360</td>\n",
              "      <td>480</td>\n",
              "      <td>480</td>\n",
              "      <td>360</td>\n",
              "      <td>0</td>\n",
              "      <td>0</td>\n",
              "      <td>0</td>\n",
              "      <td>0</td>\n",
              "      <td>0</td>\n",
              "      <td>0</td>\n",
              "      <td>0</td>\n",
              "      <td>0</td>\n",
              "      <td>0</td>\n",
              "      <td>0</td>\n",
              "      <td>1</td>\n",
              "      <td>0</td>\n",
              "      <td>0</td>\n",
              "      <td>0</td>\n",
              "      <td>0</td>\n",
              "      <td>0</td>\n",
              "      <td>0</td>\n",
              "      <td>0</td>\n",
              "    </tr>\n",
              "    <tr>\n",
              "      <th>51344</th>\n",
              "      <td>AL162018</td>\n",
              "      <td>1</td>\n",
              "      <td>-12.1</td>\n",
              "      <td>60.8</td>\n",
              "      <td>40</td>\n",
              "      <td>973</td>\n",
              "      <td>270</td>\n",
              "      <td>330</td>\n",
              "      <td>360</td>\n",
              "      <td>270</td>\n",
              "      <td>0</td>\n",
              "      <td>0</td>\n",
              "      <td>0</td>\n",
              "      <td>0</td>\n",
              "      <td>0</td>\n",
              "      <td>0</td>\n",
              "      <td>0</td>\n",
              "      <td>0</td>\n",
              "      <td>0</td>\n",
              "      <td>0</td>\n",
              "      <td>1</td>\n",
              "      <td>0</td>\n",
              "      <td>0</td>\n",
              "      <td>0</td>\n",
              "      <td>0</td>\n",
              "      <td>0</td>\n",
              "      <td>0</td>\n",
              "      <td>0</td>\n",
              "    </tr>\n",
              "    <tr>\n",
              "      <th>51345</th>\n",
              "      <td>AL162018</td>\n",
              "      <td>1</td>\n",
              "      <td>-9.1</td>\n",
              "      <td>62.4</td>\n",
              "      <td>40</td>\n",
              "      <td>977</td>\n",
              "      <td>240</td>\n",
              "      <td>300</td>\n",
              "      <td>0</td>\n",
              "      <td>210</td>\n",
              "      <td>0</td>\n",
              "      <td>0</td>\n",
              "      <td>0</td>\n",
              "      <td>0</td>\n",
              "      <td>0</td>\n",
              "      <td>0</td>\n",
              "      <td>0</td>\n",
              "      <td>0</td>\n",
              "      <td>0</td>\n",
              "      <td>0</td>\n",
              "      <td>1</td>\n",
              "      <td>0</td>\n",
              "      <td>0</td>\n",
              "      <td>0</td>\n",
              "      <td>0</td>\n",
              "      <td>0</td>\n",
              "      <td>0</td>\n",
              "      <td>0</td>\n",
              "    </tr>\n",
              "  </tbody>\n",
              "</table>\n",
              "<p>51346 rows × 28 columns</p>\n",
              "</div>"
            ],
            "text/plain": [
              "      Identifier  Land  ...  System Status_TS  System Status_WV\n",
              "0       AL011851     0  ...                 0                 0\n",
              "1       AL011851     0  ...                 0                 0\n",
              "2       AL011851     0  ...                 0                 0\n",
              "3       AL011851     0  ...                 0                 0\n",
              "4       AL011851     1  ...                 0                 0\n",
              "...          ...   ...  ...               ...               ...\n",
              "51341   AL162018     1  ...                 0                 0\n",
              "51342   AL162018     1  ...                 0                 0\n",
              "51343   AL162018     1  ...                 0                 0\n",
              "51344   AL162018     1  ...                 0                 0\n",
              "51345   AL162018     1  ...                 0                 0\n",
              "\n",
              "[51346 rows x 28 columns]"
            ]
          },
          "metadata": {
            "tags": []
          },
          "execution_count": 10
        }
      ]
    },
    {
      "cell_type": "code",
      "metadata": {
        "id": "7YL3oLJAxsoV",
        "colab_type": "code",
        "colab": {}
      },
      "source": [
        "def print_and_plot(classifier, y_test, y_prediction):\n",
        "  cm = confusion_matrix(y_test, y_prediction)\n",
        "  print(classification_report(y_test, y_prediction))\n",
        "\n",
        "  print(\"\\nConfusion Matrix values:\")\n",
        "  print(cm)\n",
        "\n",
        "  print(\"\\nConfusion Matrix normalized\")\n",
        "  cm_plot = plot_confusion_matrix(\n",
        "      classifier, X_test, y_test,\n",
        "      cmap=plt.cm.Blues,\n",
        "      normalize = 'true'\n",
        "  )\n",
        "  plt.show()\n",
        "\n",
        "  print(\"\\nROC Curve\")\n",
        "  rc_disp = plot_roc_curve(classifier, X_test, y_test)\n",
        "  plt.show()"
      ],
      "execution_count": null,
      "outputs": []
    },
    {
      "cell_type": "code",
      "metadata": {
        "id": "Tuow7alrhSL2",
        "colab_type": "code",
        "colab": {
          "base_uri": "https://localhost:8080/",
          "height": 836
        },
        "outputId": "a12b2a31-90eb-4703-9f2a-0921f541d3a3"
      },
      "source": [
        "# Version a.1: Training whole dataset\n",
        "y = data['Land']\n",
        "X = data.drop(['Land', 'Identifier'], axis = 1)\n",
        "\n",
        "X_train, X_test, y_train, y_test = train_test_split(\n",
        "    X,\n",
        "    y,\n",
        "    test_size    = 0.33,\n",
        "    random_state = 42\n",
        ")\n",
        "\n",
        "rf_a = RandomForestClassifier(\n",
        "    random_state = 17,\n",
        "    verbose = 0\n",
        ")\n",
        "\n",
        "rf_a.fit(X_train, y_train)\n",
        "\n",
        "y_prediction = rf_a.predict(X_test)\n",
        "\n",
        "print_and_plot(rf_a, y_test, y_prediction)"
      ],
      "execution_count": null,
      "outputs": [
        {
          "output_type": "stream",
          "text": [
            "              precision    recall  f1-score   support\n",
            "\n",
            "           0       0.98      0.99      0.99     14215\n",
            "           1       0.96      0.89      0.92      2730\n",
            "\n",
            "    accuracy                           0.98     16945\n",
            "   macro avg       0.97      0.94      0.95     16945\n",
            "weighted avg       0.98      0.98      0.98     16945\n",
            "\n",
            "\n",
            "Confusion Matrix values:\n",
            "[[14110   105]\n",
            " [  300  2430]]\n",
            "\n",
            "Confusion Matrix normalized\n"
          ],
          "name": "stdout"
        },
        {
          "output_type": "display_data",
          "data": {
            "image/png": "[encoded data removed]",
            "text/plain": [
              "<Figure size 432x288 with 2 Axes>"
            ]
          },
          "metadata": {
            "tags": [],
            "needs_background": "light"
          }
        },
        {
          "output_type": "stream",
          "text": [
            "\n",
            "ROC Curve\n"
          ],
          "name": "stdout"
        },
        {
          "output_type": "display_data",
          "data": {
            "image/png": "[encoded data removed]",
            "text/plain": [
              "<Figure size 432x288 with 1 Axes>"
            ]
          },
          "metadata": {
            "tags": [],
            "needs_background": "light"
          }
        }
      ]
    },
    {
      "cell_type": "code",
      "metadata": {
        "id": "QosX9HUdhSL_",
        "colab_type": "code",
        "colab": {
          "base_uri": "https://localhost:8080/",
          "height": 836
        },
        "outputId": "3e974ed8-b424-4761-d2f8-bfba144d3e22"
      },
      "source": [
        "# Version a.2 with cross validation\n",
        "def display_scores(scores):\n",
        "    print(\"Scores: {}\".format(scores))\n",
        "    print(\"Mean: {}\".format(scores.mean()))\n",
        "    print(\"Standard deviation: {}\".format(scores))\n",
        "\n",
        "rf_a_cross_val = RandomForestClassifier(\n",
        "    random_state = 17,\n",
        "    verbose = 0\n",
        ")\n",
        "scores = cross_val_score(\n",
        "    rf_a_cross_val,\n",
        "    X_train,\n",
        "    y_train,\n",
        "    scoring=\"f1\",\n",
        "    cv=10\n",
        ")\n",
        "\n",
        "print_and_plot(rf_a, y_test, y_prediction)"
      ],
      "execution_count": null,
      "outputs": [
        {
          "output_type": "stream",
          "text": [
            "              precision    recall  f1-score   support\n",
            "\n",
            "           0       0.98      0.99      0.99     14215\n",
            "           1       0.96      0.89      0.92      2730\n",
            "\n",
            "    accuracy                           0.98     16945\n",
            "   macro avg       0.97      0.94      0.95     16945\n",
            "weighted avg       0.98      0.98      0.98     16945\n",
            "\n",
            "\n",
            "Confusion Matrix values:\n",
            "[[14110   105]\n",
            " [  300  2430]]\n",
            "\n",
            "Confusion Matrix normalized\n"
          ],
          "name": "stdout"
        },
        {
          "output_type": "display_data",
          "data": {
            "image/png": "[encoded data removed]",
            "text/plain": [
              "<Figure size 432x288 with 2 Axes>"
            ]
          },
          "metadata": {
            "tags": [],
            "needs_background": "light"
          }
        },
        {
          "output_type": "stream",
          "text": [
            "\n",
            "ROC Curve\n"
          ],
          "name": "stdout"
        },
        {
          "output_type": "display_data",
          "data": {
            "image/png": "[encoded data removed]",
            "text/plain": [
              "<Figure size 432x288 with 1 Axes>"
            ]
          },
          "metadata": {
            "tags": [],
            "needs_background": "light"
          }
        }
      ]
    },
    {
      "cell_type": "code",
      "metadata": {
        "id": "tkWUd9HyhSMH",
        "colab_type": "code",
        "colab": {
          "base_uri": "https://localhost:8080/",
          "height": 347
        },
        "outputId": "6f5ae0b4-436c-444f-f7aa-e9f054fef56f"
      },
      "source": [
        "# Version a.3 with Grid Search and cross validation\n",
        "param_grid = [\n",
        "    {\n",
        "        'n_estimators': [3, 10, 30],\n",
        "        'max_features': [4, 6, 8, 15]\n",
        "    },\n",
        "    {\n",
        "        'bootstrap': [False],\n",
        "        'n_estimators': [3, 10],\n",
        "        'max_features': [2, 3, 4]\n",
        "    }\n",
        "]\n",
        "\n",
        "rf_a_grid_search = RandomForestClassifier(\n",
        "    random_state = 17,\n",
        "    verbose = 0\n",
        ")\n",
        "\n",
        "grid_search = GridSearchCV(\n",
        "    rf_a_grid_search,\n",
        "    param_grid,\n",
        "    cv=10,\n",
        "    scoring=\"neg_mean_squared_error\",\n",
        "    return_train_score=True\n",
        ")\n",
        "\n",
        "grid_search.fit(X_train, y_train)\n",
        "cvres = grid_search.cv_results_\n",
        "\n",
        "print(\"Best params: {}\".format(grid_search.best_params_))\n",
        "\n",
        "for mean_score, params in zip(cvres['mean_test_score'], cvres['params']):\n",
        "    print(np.sqrt(-mean_score), params)"
      ],
      "execution_count": null,
      "outputs": [
        {
          "output_type": "stream",
          "text": [
            "Best params: {'max_features': 15, 'n_estimators': 30}\n",
            "0.18893553214648512 {'max_features': 4, 'n_estimators': 3}\n",
            "0.17058148519653019 {'max_features': 4, 'n_estimators': 10}\n",
            "0.16547805277193103 {'max_features': 4, 'n_estimators': 30}\n",
            "0.17702020589492187 {'max_features': 6, 'n_estimators': 3}\n",
            "0.16057443364336577 {'max_features': 6, 'n_estimators': 10}\n",
            "0.1537302375890638 {'max_features': 6, 'n_estimators': 30}\n",
            "0.16946988873092556 {'max_features': 8, 'n_estimators': 3}\n",
            "0.1512518472857567 {'max_features': 8, 'n_estimators': 10}\n",
            "0.14234123820896583 {'max_features': 8, 'n_estimators': 30}\n",
            "0.12563625975843984 {'max_features': 15, 'n_estimators': 3}\n",
            "0.11824640277470815 {'max_features': 15, 'n_estimators': 10}\n",
            "0.11296599191275314 {'max_features': 15, 'n_estimators': 30}\n",
            "0.19304501393499418 {'bootstrap': False, 'max_features': 2, 'n_estimators': 3}\n",
            "0.17954793149118572 {'bootstrap': False, 'max_features': 2, 'n_estimators': 10}\n",
            "0.18591153873420038 {'bootstrap': False, 'max_features': 3, 'n_estimators': 3}\n",
            "0.1726141649054185 {'bootstrap': False, 'max_features': 3, 'n_estimators': 10}\n",
            "0.18140017120619406 {'bootstrap': False, 'max_features': 4, 'n_estimators': 3}\n",
            "0.16661580159597858 {'bootstrap': False, 'max_features': 4, 'n_estimators': 10}\n"
          ],
          "name": "stdout"
        }
      ]
    },
    {
      "cell_type": "code",
      "metadata": {
        "id": "JxycxXfwhSMP",
        "colab_type": "code",
        "colab": {
          "base_uri": "https://localhost:8080/",
          "height": 469
        },
        "outputId": "21a5bc69-9bc2-4806-c26f-f91102768cca"
      },
      "source": [
        "feature_importances = grid_search.best_estimator_.feature_importances_\n",
        "sorted(zip(feature_importances, X_train.columns), reverse=True)"
      ],
      "execution_count": null,
      "outputs": [
        {
          "output_type": "execute_result",
          "data": {
            "text/plain": [
              "[(0.5171196841217689, 'Longitude'),\n",
              " (0.4020216540178943, 'Latitude'),\n",
              " (0.03576535964136791, 'Max wind'),\n",
              " (0.019603743156869344, 'System Status_EX'),\n",
              " (0.009978619711947662, 'Min pressure'),\n",
              " (0.003036436326491529, 'System Status_TD'),\n",
              " (0.0016492995219277696, 'System Status_HU'),\n",
              " (0.0016331934235584405, 'System Status_TS'),\n",
              " (0.001455925047990984, '34 kt wind radii southwestern.1'),\n",
              " (0.0014438704977330443, '34 kt wind radii southeastern'),\n",
              " (0.0011211371470319636, '34 kt wind northeastern'),\n",
              " (0.0007916736761781581, '34 kt wind radii southwestern'),\n",
              " (0.0006728212258034022, '50 kt wind radii southeastern'),\n",
              " (0.0005520248638804644, '50 kt wind northeastern'),\n",
              " (0.0005067094472769474, '50 kt wind radii southwestern.1'),\n",
              " (0.0004461358865129061, 'System Status_LO'),\n",
              " (0.0003889152052690619, '64 kt wind northeastern'),\n",
              " (0.0003750649512804725, '50 kt wind radii southwestern'),\n",
              " (0.00036571879969390394, '64 kt wind radii southwestern'),\n",
              " (0.00032684665783953913, '64 kt wind radii southwestern.1'),\n",
              " (0.0003137970208689358, '64 kt wind radii southeastern'),\n",
              " (0.00018422548194463803, 'System Status_SD'),\n",
              " (0.000126363728513172, 'System Status_SS'),\n",
              " (0.0001017478112741847, 'System Status_WV'),\n",
              " (1.903262908246762e-05, 'System Status_DB'),\n",
              " (0.0, 'System Status_ET')]"
            ]
          },
          "metadata": {
            "tags": []
          },
          "execution_count": 57
        }
      ]
    },
    {
      "cell_type": "code",
      "metadata": {
        "id": "qQjz53UKhSMc",
        "colab_type": "code",
        "colab": {
          "base_uri": "https://localhost:8080/",
          "height": 836
        },
        "outputId": "25a0c6e0-8a97-4553-e39b-5b14e6fa485c"
      },
      "source": [
        "final_model = grid_search.best_estimator_\n",
        "\n",
        "final_predictions = final_model.predict(X_test)\n",
        "\n",
        "print_and_plot(final_model, y_test, final_predictions)"
      ],
      "execution_count": null,
      "outputs": [
        {
          "output_type": "stream",
          "text": [
            "              precision    recall  f1-score   support\n",
            "\n",
            "           0       0.99      1.00      0.99     14215\n",
            "           1       0.98      0.96      0.97      2730\n",
            "\n",
            "    accuracy                           0.99     16945\n",
            "   macro avg       0.98      0.98      0.98     16945\n",
            "weighted avg       0.99      0.99      0.99     16945\n",
            "\n",
            "\n",
            "Confusion Matrix values:\n",
            "[[14151    64]\n",
            " [  116  2614]]\n",
            "\n",
            "Confusion Matrix normalized\n"
          ],
          "name": "stdout"
        },
        {
          "output_type": "display_data",
          "data": {
            "image/png": "[encoded data removed]",
            "text/plain": [
              "<Figure size 432x288 with 2 Axes>"
            ]
          },
          "metadata": {
            "tags": [],
            "needs_background": "light"
          }
        },
        {
          "output_type": "stream",
          "text": [
            "\n",
            "ROC Curve\n"
          ],
          "name": "stdout"
        },
        {
          "output_type": "display_data",
          "data": {
            "image/png": "[encoded data removed]",
            "text/plain": [
              "<Figure size 432x288 with 1 Axes>"
            ]
          },
          "metadata": {
            "tags": [],
            "needs_background": "light"
          }
        }
      ]
    },
    {
      "cell_type": "code",
      "metadata": {
        "id": "nYL0SqNthSMr",
        "colab_type": "code",
        "colab": {
          "base_uri": "https://localhost:8080/",
          "height": 34
        },
        "outputId": "7524eef6-3140-45bd-82d7-252d107c550b"
      },
      "source": [
        "# Create array with hurricanes\n",
        "hurricanes = {}\n",
        "hurricane_identifiers = data['Identifier'].unique()\n",
        "\n",
        "for hurricane_id in tqdm(hurricane_identifiers):\n",
        "    hurricanes[hurricane_id] = data[data['Identifier'] == hurricane_id].drop('Identifier', axis = 1)"
      ],
      "execution_count": null,
      "outputs": [
        {
          "output_type": "stream",
          "text": [
            "100%|██████████| 1873/1873 [00:09<00:00, 190.80it/s]\n"
          ],
          "name": "stderr"
        }
      ]
    },
    {
      "cell_type": "code",
      "metadata": {
        "id": "RY-KJX2zhSM4",
        "colab_type": "code",
        "colab": {
          "base_uri": "https://localhost:8080/",
          "height": 69
        },
        "outputId": "d0cbd02a-99ad-450f-d52d-23775e6d4b01"
      },
      "source": [
        "# Now, you can predict hurricanes!\n",
        "hurricane_to_predict = hurricanes['AL162018']\n",
        "\n",
        "hurricane_data_to_predict = hurricane_to_predict.drop('Land', axis = 1)\n",
        "\n",
        "hurricane_row_to_predict = hurricane_data_to_predict[15:16]\n",
        "print(\"Prediction: {} vs fact: {}\".format(final_model.predict(hurricane_row_to_predict), hurricane_to_predict[15:16]['Land'].values))\n",
        "\n",
        "hurricane_row_to_predict = hurricane_data_to_predict[20:21]\n",
        "print(\"Prediction: {} vs fact: {}\".format(final_model.predict(hurricane_row_to_predict), hurricane_to_predict[20:21]['Land'].values))\n",
        "\n",
        "hurricane_row_to_predict = hurricane_data_to_predict[25:26]\n",
        "print(\"Prediction: {} vs fact: {}\".format(final_model.predict(hurricane_row_to_predict), hurricane_to_predict[25:26]['Land'].values))\n"
      ],
      "execution_count": null,
      "outputs": [
        {
          "output_type": "stream",
          "text": [
            "Prediction: [0] vs fact: [0]\n",
            "Prediction: [0] vs fact: [0]\n",
            "Prediction: [1] vs fact: [1]\n"
          ],
          "name": "stdout"
        }
      ]
    }
  ]
}